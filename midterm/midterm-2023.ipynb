{
  "cells": [
    {
      "cell_type": "markdown",
      "metadata": {
        "id": "VlSOXfWRNDjV"
      },
      "source": [
        "# HDS5210-2022 Midterm\n",
        "\n",
        "In the midterm, you're going to use all the programming and data management skills you've developed so far to build a risk calculator that pretends to be integrated with a clinical registry.  You'll compute the PRIEST COVID-19 Clinical Severity Score for a series of patients and, based on their risk of an adverse outcome, query a REST web service to find a hospital to transfer them to. The end result of your work will be a list of instructions on where each patient should be discharged given their risk and various characteristics of the patient.\n",
        "\n",
        "Each step in the midterm will build up to form your complete solution.\n",
        "\n",
        "**Make sure you write good docstrings and doctests along the way!!**\n",
        "\n",
        "**The midterm is due at 11:59 PM CST on Monday, October 23rd.**\n",
        "\n",
        "---"
      ]
    },
    {
      "cell_type": "markdown",
      "metadata": {
        "id": "EFAY2Jc9NDjZ"
      },
      "source": [
        "## Step 1: Calculate PRIEST Clinical Severity Score\n",
        "\n",
        "This scoring algorithm can be found [here on the MDCalc website](https://www.mdcalc.com/priest-covid-19-clinical-severity-score#evidence).  \n",
        "\n",
        "1. You will need to write a function called **priest()** with the following input parameters.  \n",
        " * Sex (Gender assigned at birth)\n",
        " * Age in years\n",
        " * Respiratory rate in breaths per minute\n",
        " * Oxygen saturation as a percent between 0 and 1\n",
        " * Heart rate in beats per minute\n",
        " * Systolic BP in mmHg\n",
        " * Temperature in degrees C\n",
        " * Alertness as a string description\n",
        " * Inspired Oxygen as as string description\n",
        " * Performance Status as a string description\n",
        "2. The function will need to follow the algorithm provided on the MDCalc website to compute a risk percentage that should be returned as a numeric value between 0 and 1.\n",
        "3. Be sure to use docstring documentation and at least three built-in docstring test cases.\n",
        "4. Assume that the input values that are strings could be any combination of upper or lower case. For example: 'male', 'Male', 'MALE', 'MalE' should all be interpretted by your code as male.\n",
        "5. If any of the inputs are invalid (for example a sex value that is not recognizable as male or female) your code should return None.\n",
        "\n",
        "NOTES:\n",
        "1. In the final step there is a table that translates from **PRIEST Score** to **30-day probability of an outcome** but the last two probabilities are shown as ranges (59-88% and >99%).  Our code needs to output a single number, however. For our code, use the following rule:\n",
        " * If PRIEST score is between 17 and 25, the probability you return should be 0.59\n",
        " * If PRIEST score is greater than or equal to 26, the probability you return should be 0.99\n"
      ]
    },
    {
      "cell_type": "code",
      "execution_count": 13,
      "metadata": {
        "id": "KBqYFexsNDja"
      },
      "outputs": [],
      "source": [
        "def priest(sex, age, respiRt, OxySatu, heartRt, systolicbp, temp, alrt, inOxy, perfSts):\n",
        "\n",
        "    \"\"\"\n",
        "\n",
        "    (String, float, float, float, float, float, float, String, String, String) -> float)\n",
        "\n",
        "    The priest method is used to determine the percentage of the risk\n",
        "    of the clinical Severity Score 'PRIEST' COVID-19.\n",
        "\n",
        "    Priest function accepts sex, alrt, inOxy and perfSts in String and remaining all other arguments are in float.\n",
        "\n",
        "    >>> priest(\"male\",65,22,0.96,41,115,38.1,\"ALERT\", \"AIR\", \"unrestricted normal activity\")\n",
        "    0.18\n",
        "\n",
        "    >>> priest(\"Female\",40,22,0.98,89,230,38.1,\"alert\",\"AIR\",\"unrestricted normal activity\")\n",
        "    0.15\n",
        "\n",
        "    >>> priest(\"FEMALE\",18,22,0.96,50,115,38.1,\"ALERT\",\"AIR\",\"limited strenuous activity, can do light activity\")\n",
        "    0.09\n",
        "\n",
        "    \"\"\"\n",
        "\n",
        "\n",
        "    prscore = 0\n",
        "\n",
        "    if age >= 50 and age<=65:\n",
        "        prscore = prscore + 2\n",
        "    elif age >= 66 and age<=80:\n",
        "        prscore = prscore + 3\n",
        "    elif age > 80:\n",
        "        prscore = prscore + 4\n",
        "\n",
        "\n",
        "    if alrt.lower() == \"confused or not alert\":\n",
        "        prscore = prscore +  3\n",
        "\n",
        "    if perfSts.lower() == \"limited self-care\":\n",
        "        prscore = prscore +  3\n",
        "    elif perfSts.lower() == \"limited activity, can self-care\":\n",
        "        prscore = prscore +  2\n",
        "    if perfSts.lower() == \"limited strenuous activity, can do light activity\":\n",
        "        prscore = prscore +  1\n",
        "    elif perfSts.lower() == \"bed/chair bound, no self-care\":\n",
        "        prscore = prscore +  4\n",
        "\n",
        "    if inOxy.lower() == \"supplemental oxygen\":\n",
        "        prscore = prscore +  2\n",
        "\n",
        "    if respiRt < 9:\n",
        "        prscore = prscore +  3\n",
        "    if respiRt > 24:\n",
        "        prscore = prscore +  3\n",
        "    elif respiRt >= 21 and respiRt <= 24:\n",
        "        prscore = prscore +  2\n",
        "    elif respiRt >= 9 and respiRt <= 11:\n",
        "        prscore = prscore +  1\n",
        "\n",
        "    if OxySatu < 0.92:\n",
        "        prscore = prscore +  3\n",
        "    elif OxySatu >= 0.94 and OxySatu <= 0.95:\n",
        "        prscore = prscore +  1\n",
        "    elif OxySatu >= 0.92 and OxySatu <= 0.93:\n",
        "        prscore = prscore +  2\n",
        "\n",
        "    if heartRt > 130:\n",
        "        prscore = prscore +  3\n",
        "    elif heartRt >= 111 and heartRt <= 130:\n",
        "        prscore = prscore +  2\n",
        "    elif heartRt >= 91 and heartRt <= 110:\n",
        "        prscore = prscore +  1\n",
        "    elif heartRt < 41:\n",
        "        prscore = prscore +  3\n",
        "    elif heartRt >= 41 and heartRt <= 50:\n",
        "        prscore = prscore +  1\n",
        "\n",
        "\n",
        "    if systolicbp > 219:\n",
        "        prscore = prscore +  3\n",
        "    elif systolicbp >= 101 and systolicbp <= 110:\n",
        "        prscore = prscore +  1\n",
        "    elif systolicbp >= 91 and systolicbp <= 100:\n",
        "        prscore = prscore +  2\n",
        "    elif systolicbp < 91:\n",
        "        prscore = prscore +  3\n",
        "\n",
        "    if temp > 39.0:\n",
        "        prscore = prscore +  2\n",
        "    elif temp >= 38.1 and temp <= 39.0:\n",
        "        prscore = prscore +  1\n",
        "    if temp < 35.1:\n",
        "        prscore = prscore +  3\n",
        "    elif temp >= 35.1 and temp <= 36.0:\n",
        "        prscore = prscore +  1\n",
        "\n",
        "    if sex.lower()== \"male\":\n",
        "        prscore = prscore + 1\n",
        "\n",
        "\n",
        "    scale = [0.01, 0.01, 0.02, 0.02, 0.03, 0.09, 0.15, 0.18, 0.22, 0.26, 0.29, 0.34, 0.38, 0.46, 0.47, 0.49, 0.55, 0.59, 0.59, 0.59, 0.59, 0.59, 0.59, 0.59, 0.59, 0.59,0.99]\n",
        "    if prscore < 26:\n",
        "        return scale[prscore]\n",
        "\n",
        ""
      ]
    },
    {
      "cell_type": "code",
      "execution_count": 11,
      "metadata": {
        "id": "bqeQSWc5NDja",
        "outputId": "e2bf1011-cb45-4f97-c814-1530181c0f0d",
        "colab": {
          "base_uri": "https://localhost:8080/"
        }
      },
      "outputs": [
        {
          "output_type": "stream",
          "name": "stdout",
          "text": [
            "Finding tests in NoName\n",
            "Trying:\n",
            "    priest(\"male\",65,22,0.96,41,115,38.1,\"ALERT\", \"AIR\", \"unrestricted normal activity\")\n",
            "Expecting:\n",
            "    0.18\n",
            "**********************************************************************\n",
            "File \"__main__\", line 12, in NoName\n",
            "Failed example:\n",
            "    priest(\"male\",65,22,0.96,41,115,38.1,\"ALERT\", \"AIR\", \"unrestricted normal activity\")\n",
            "Exception raised:\n",
            "    Traceback (most recent call last):\n",
            "      File \"/usr/lib/python3.10/doctest.py\", line 1350, in __run\n",
            "        exec(compile(example.source, filename, \"single\",\n",
            "      File \"<doctest NoName[0]>\", line 1, in <module>\n",
            "        priest(\"male\",65,22,0.96,41,115,38.1,\"ALERT\", \"AIR\", \"unrestricted normal activity\")\n",
            "      File \"<ipython-input-10-f4e92c9c01b0>\", line 95, in priest\n",
            "        if sex.lower()== male:\n",
            "    NameError: name 'male' is not defined\n",
            "Trying:\n",
            "    priest(\"Female\",40,22,0.98,89,230,38.1,\"alert\",\"AIR\",\"unrestricted normal activity\")\n",
            "Expecting:\n",
            "    0.15\n",
            "**********************************************************************\n",
            "File \"__main__\", line 15, in NoName\n",
            "Failed example:\n",
            "    priest(\"Female\",40,22,0.98,89,230,38.1,\"alert\",\"AIR\",\"unrestricted normal activity\")\n",
            "Exception raised:\n",
            "    Traceback (most recent call last):\n",
            "      File \"/usr/lib/python3.10/doctest.py\", line 1350, in __run\n",
            "        exec(compile(example.source, filename, \"single\",\n",
            "      File \"<doctest NoName[1]>\", line 1, in <module>\n",
            "        priest(\"Female\",40,22,0.98,89,230,38.1,\"alert\",\"AIR\",\"unrestricted normal activity\")\n",
            "      File \"<ipython-input-10-f4e92c9c01b0>\", line 95, in priest\n",
            "        if sex.lower()== male:\n",
            "    NameError: name 'male' is not defined\n",
            "Trying:\n",
            "    priest(\"FEMALE\",18,22,0.96,50,115,38.1,\"ALERT\",\"AIR\",\"limited strenuous activity, can do light activity\")\n",
            "Expecting:\n",
            "    0.09\n",
            "**********************************************************************\n",
            "File \"__main__\", line 18, in NoName\n",
            "Failed example:\n",
            "    priest(\"FEMALE\",18,22,0.96,50,115,38.1,\"ALERT\",\"AIR\",\"limited strenuous activity, can do light activity\")\n",
            "Exception raised:\n",
            "    Traceback (most recent call last):\n",
            "      File \"/usr/lib/python3.10/doctest.py\", line 1350, in __run\n",
            "        exec(compile(example.source, filename, \"single\",\n",
            "      File \"<doctest NoName[2]>\", line 1, in <module>\n",
            "        priest(\"FEMALE\",18,22,0.96,50,115,38.1,\"ALERT\",\"AIR\",\"limited strenuous activity, can do light activity\")\n",
            "      File \"<ipython-input-10-f4e92c9c01b0>\", line 95, in priest\n",
            "        if sex.lower()== male:\n",
            "    NameError: name 'male' is not defined\n"
          ]
        }
      ],
      "source": [
        "import doctest\n",
        "doctest.run_docstring_examples(priest, globals(),verbose=True)"
      ]
    },
    {
      "cell_type": "markdown",
      "metadata": {
        "id": "WsEfzG1aNDjc"
      },
      "source": [
        "## Part 2: Find a hospital\n",
        "\n",
        "The next thing we have to do is figure out where to send this particular patient.  The guidelines on where to send a patient are based on their age (pediatric, adult, geriatric), sex, and risk percentage.  Luckily, you don't have to implement these rules. I already have. All you have to do is use a REST web service that I've created for you.\n",
        "\n",
        "You'll want to use Python to make a call to my REST web service similar to the example URL below. The first part of the URL will be the same for everyone and every request that you make. What you will need to modify for each of your requests is the information after the question mark.\n",
        "\n",
        "```\n",
        "https://oumdj6oci2.execute-api.us-east-1.amazonaws.com/prd/?age=40&sex=male&risk_pct=0.1\n",
        "```\n",
        "\n",
        "The example above asks my web service where a 40-year old male with a risk of 10% should go.  What the web service will return back is a JSON string containing the information you need.  That JSON will look like this:\n",
        "\n",
        "```json\n",
        "{\n",
        "  \"age\": \"40\",\n",
        "  \"sex\": \"male\",\n",
        "  \"risk\": \"0.1\",\n",
        "  \"hospital\": \"Southwest Hospital and Medical Center\"\n",
        "}\n",
        "```\n",
        "\n",
        "My function is not smart enough to understand `'MALE'` is the same as `'male'`.  You have to send it exactly `'male'` or `'female'`\n",
        "\n",
        "1. Your job is to write a function called **find_hospital()** that takes age, sex, and risk as parameters.\n",
        "2. Your function should call this REST web service using the `requests` module\n",
        "3. Then your function will need to interpret the JSON it gets and return just the name of the hospital\n",
        "4. If anything fails, return None\n",
        "5. Include a good docstring with at least three test cases.\n"
      ]
    },
    {
      "cell_type": "code",
      "execution_count": 12,
      "metadata": {
        "id": "SvAA952INDjd"
      },
      "outputs": [],
      "source": [
        "import requests\n",
        "import json\n",
        "\n",
        "\n",
        "def find_hospital(age, sex, rsk):\n",
        "    \"\"\"\n",
        "\n",
        "    (integer,string,float)->string\n",
        "\n",
        "\n",
        "    Function Find_Hospital Find a hospital using the age, sex, and risk percentage.\n",
        "    It generates hospital name in String after expecting age, risk percentage in float, and sex in String.\n",
        "\n",
        "    The find_hospital command Passing age, sex, and rsk as query parameters to the\n",
        "    url using the requests module will help you find the hospital on the API.\n",
        "\n",
        "\n",
        "    >>> find_hospital(40, \"female\", 0.15)\n",
        "    'Select Specialty Hospital - Northeast Atlanta'\n",
        "\n",
        "    >>> find_hospital(40, \"MALE\", 0.22)\n",
        "    'Southwest Hospital and Medical Center'\n",
        "\n",
        "    >>> find_hospital(16, \"Male\", 0.29)\n",
        "    'Childrens Healthcare of Atlanta at Scottish Rite'\n",
        "\n",
        "    \"\"\"\n",
        "    value={\"age\": age, \"sex\": sex.lower(), \"risk_pct\": rsk}\n",
        "    final = requests.get(\"https://oumdj6oci2.execute-api.us-east-1.amazonaws.com/prd/\", params=value)\n",
        "    final2 = final.json()\n",
        "    return final2['hospital']"
      ]
    },
    {
      "cell_type": "code",
      "execution_count": 14,
      "metadata": {
        "id": "ZsfYVqF4NDjd",
        "outputId": "74e79f83-5aef-4f64-fa14-8c749415e636",
        "colab": {
          "base_uri": "https://localhost:8080/"
        }
      },
      "outputs": [
        {
          "output_type": "stream",
          "name": "stdout",
          "text": [
            "Finding tests in NoName\n",
            "Trying:\n",
            "    find_hospital(40, \"female\", 0.15)\n",
            "Expecting:\n",
            "    'Select Specialty Hospital - Northeast Atlanta'\n",
            "ok\n",
            "Trying:\n",
            "    find_hospital(40, \"MALE\", 0.22)\n",
            "Expecting:\n",
            "    'Southwest Hospital and Medical Center'\n",
            "ok\n",
            "Trying:\n",
            "    find_hospital(16, \"Male\", 0.29)\n",
            "Expecting:\n",
            "    'Childrens Healthcare of Atlanta at Scottish Rite'\n",
            "ok\n"
          ]
        }
      ],
      "source": [
        "import doctest\n",
        "doctest.run_docstring_examples(find_hospital, globals(),verbose=True)"
      ]
    },
    {
      "cell_type": "markdown",
      "metadata": {
        "id": "xvEOar6rNDje"
      },
      "source": [
        "## Part 3: Get the address for that hospital from a JSON file\n",
        "\n",
        "Great! Now we have code to tell us which hospital to send someone to... but we don't know where that hospital is. The next function we need to create is one that looks up the address of that hospital.  All of these hospitals are in Atlanta, Georgia.  We're going to use the list from this webpage to lookup the address for that hospital, based on its name.  https://www.officialusa.com/stateguides/health/hospitals/georgia.html\n",
        "\n",
        "Because we skipped the section about Beautiful Soup and working with HTML, I've converted this information into a JSON document for you.  It's available for you here.  Your code should retrieve this file using the `requests` module.\n",
        "\n",
        "`https://drive.google.com/uc?export=download&id=1fIFD-NkcdiMu941N4GjyMDWxiKsFJBw-`\n",
        "\n",
        "1. You need to create a function called **get_address()** that takes hospital name as a parameter and searches the data from this JSON file for the hospital you want to find.\n",
        "2. Your code will have to load the JSON and return the correct hospital based on name.\n",
        "3. If the hospital name isn't found, the function should return None.\n",
        "4. Be sure to use good docstring documentation and includes at least 3 test cases."
      ]
    },
    {
      "cell_type": "code",
      "execution_count": 15,
      "metadata": {
        "id": "m2s16Cb1NDje"
      },
      "outputs": [],
      "source": [
        "def get_address(name):\n",
        "    \"\"\"\n",
        "    (string)->string\n",
        "\n",
        "    get_address function find the address of hospital based on hospital name from the url provided\n",
        "\n",
        "    get_address function expects hospital name as String and return address in String\n",
        "\n",
        "    get_address function find address by use API, where it has hospital name json data in it.\n",
        "\n",
        "    >>> get_address(\"Childrens Healthcare of Atlanta at Scottish Rite\")\n",
        "    '1001 JOHNSON FERRY RD'\n",
        "\n",
        "    >>> get_address(\"Select Specialty Hospital - Northeast Atlanta\")\n",
        "    '1821 CLIFTON ROAD NE'\n",
        "\n",
        "    >>> get_address(\"Wesley Woods Geriatric Hospital\")\n",
        "    '1821 CLIFTON ROAD, NE'\n",
        "\n",
        "    \"\"\"\n",
        "\n",
        "    urldata = req.get(\"https://hds5210-data.s3.amazonaws.com/ga_hospitals.json\")\n",
        "\n",
        "    name=name.upper()\n",
        "\n",
        "    finall = urldata.json()\n",
        "\n",
        "    if name in finall:\n",
        "\n",
        "        final3 = finall[name]['ADDRESS']\n",
        "\n",
        "        return final3\n",
        "\n",
        "    return \"Not found\""
      ]
    },
    {
      "cell_type": "markdown",
      "metadata": {
        "id": "LxhOOP-SNDje"
      },
      "source": [
        "## Part 4: Run the risk calculator on a population\n",
        "\n",
        "At the link below, there is a file called `people.psv`.  It is a pipe-delimited (`|`) file with columns that match the inputs for the PRIEST calculation above.  Your code should use the `requests` module to retrieve the file from this URL.\n",
        "\n",
        "`https://drive.google.com/uc?export=download&id=1fLxJN9YGUqmqExrilxSS8furwUER5HHh`\n",
        "\n",
        "\n",
        "In addition, the file has a patient identifier in the first column.\n",
        "\n",
        "1. Write a function called **process_people()** that takes the file location above as its only parameter. Your Python program should use your code above to process all of these rows, determine the hospital and address, and return a list whose items are a dictionary like this: `{ patient_number: [sex, age, breath, o2sat, heart, systolic, temp, alertness, inspired, status, hospital, address]}`.  Look at the file in Part 5 for what the output looks like.\n",
        "2. Be sure to use good docstrings, but you don't need any tests in your doc strings.  I've provided those for you withe file in Part 5.\n",
        "\n",
        "\n",
        "**NOTE** that when running your code for all the 100 records in the `people.psv` file, it may take a few minutes to complete.  You're making multiple calls to the internet for each record, so that can take a little while.\n"
      ]
    },
    {
      "cell_type": "code",
      "execution_count": 16,
      "metadata": {
        "id": "cfCTZFBUNDjf"
      },
      "outputs": [],
      "source": [
        "import csv\n",
        "\n",
        "def process_people(url):\n",
        "    \"\"\"\n",
        "\n",
        "    (string)->dictionary\n",
        "\n",
        "    All patient information, including risk, hospital, and\n",
        "    hospital address, will be produced in a dictionary by this process_people method.\n",
        "\n",
        "\n",
        "    process_people accepts a string input parameter for the url and outputs a dictionary with patient information.\n",
        "\n",
        "    \"\"\"\n",
        "    lastOut = {}\n",
        "    res = req.get(url)\n",
        "    first = res.text.split(\"\\n\")\n",
        "    second = csv.reader(first, delimiter='|')\n",
        "    next(second)\n",
        "    for k in second:\n",
        "        if not any(field != '' for field in k):\n",
        "            break\n",
        "\n",
        "        patient, sex, age, respiRt, OxySatu, heartRt, systolicbp, temp, alrt, inOxy, perfSts = k\n",
        "\n",
        "        rsk = priest(sex, float(age), float(respiRt), float(OxySatu), float(heartRt), float(systolicbp), float(temp), alrt, inOxy, perfSts)\n",
        "\n",
        "        name = find_hospital(int(age), sex, rsk)\n",
        "\n",
        "        erow = [sex, float(age), float(respiRt), float(OxySatu), float(heartRt), float(systolicbp), float(temp), alrt, inOxy, perfSts, rsk, name, get_address(name)]\n",
        "\n",
        "        lastOut[patient] = erow\n",
        "\n",
        "\n",
        "    return lastOut"
      ]
    },
    {
      "cell_type": "markdown",
      "metadata": {
        "id": "R7zLzuOINDjf"
      },
      "source": [
        "## Part 5: Checking your final results\n",
        "\n",
        "The final step is to check your results.  You should be able to compare your results to the output in `people_results.json` at the link below.  Write some code to check your results.  This does not need to be a function.\n",
        "\n",
        "`https://drive.google.com/uc?export=download&id=1gx1SSC20mO5XL6uYD0mdcM_cL91fcIW5`\n"
      ]
    },
    {
      "cell_type": "code",
      "execution_count": 17,
      "metadata": {
        "id": "cCWsV3y0NDjf",
        "outputId": "ff7f1cc0-b43a-414a-e4c7-06f3d23d7dba",
        "colab": {
          "base_uri": "https://localhost:8080/"
        }
      },
      "outputs": [
        {
          "output_type": "stream",
          "name": "stdout",
          "text": [
            "EQUAL\n"
          ]
        }
      ],
      "source": [
        "import requests as req\n",
        "import json\n",
        "\"\"\"\n",
        "It compares the json data from the link with the calculated data using above functions\n",
        "\n",
        "It returns \"Data is equal\" when they are equal and not equal if they are not\n",
        "\"\"\"\n",
        "\n",
        "headers = {'Accept' : 'application/json'}\n",
        "outdataValues = requests.get(\"https://hds5210-data.s3.amazonaws.com/people_results.json\", headers=headers)\n",
        "urldict = outdataValues.json()\n",
        "urldictstring = json.dumps(urldict)\n",
        "urldictstringfinal = json.loads(urldictstring)\n",
        "\n",
        "processdict = process_people(\"https://hds5210-data.s3.amazonaws.com/people.psv\")\n",
        "processdictstring = json.dumps(processdict)\n",
        "processdictstringfinal = json.loads(processdictstring)\n",
        "\n",
        "if urldictstringfinal == processdictstringfinal:\n",
        "    print(\"EQUAL\")\n",
        "else:\n",
        "    print(\"NOT EQUAL\")"
      ]
    },
    {
      "cell_type": "markdown",
      "metadata": {
        "id": "pmx5fbvGNDjf"
      },
      "source": [
        "---\n",
        "\n",
        "## Check your work above\n",
        "\n",
        "If you didn't get them all correct, take a few minutes to think through those that aren't correct.\n",
        "\n",
        "\n",
        "## Submitting Your Work\n",
        "\n",
        "Submit your work as usual into a folder named `midterm`"
      ]
    },
    {
      "cell_type": "markdown",
      "metadata": {
        "id": "yMZg-LrLNDjf"
      },
      "source": [
        "---"
      ]
    }
  ],
  "metadata": {
    "kernelspec": {
      "display_name": "Python 3",
      "language": "python",
      "name": "python3"
    },
    "language_info": {
      "codemirror_mode": {
        "name": "ipython",
        "version": 3
      },
      "file_extension": ".py",
      "mimetype": "text/x-python",
      "name": "python",
      "nbconvert_exporter": "python",
      "pygments_lexer": "ipython3",
      "version": "3.9.16"
    },
    "colab": {
      "provenance": []
    }
  },
  "nbformat": 4,
  "nbformat_minor": 0
}