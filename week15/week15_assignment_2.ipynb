{
  "cells": [
    {
      "cell_type": "markdown",
      "metadata": {
        "nbgrader": {
          "grade": false,
          "grade_id": "cell-fc1c39d0d6f8b82a",
          "locked": true,
          "schema_version": 1,
          "solution": false
        },
        "id": "IAtj7CPEeMQm"
      },
      "source": [
        "# Week 15 Programming Assignment\n",
        "\n",
        "The final thing for this semester that we haven't exercised, yet, is working with databases through Python.  In thi final assignment of the semester, you will practice pulling data from either Google Big Query or Snowflake, loading that data into a Pandas data frame, summarizing the data, and then exporting that to an Excel file.\n",
        "\n",
        "**You will need to use your own Google Big Query or Snowflake account to run this notebook, but you should try to make it configurable so anyone with an account in those technologies could run your notebook with minimal changes.**\n",
        "\n",
        "\n",
        "Build a notebook with good comments (either in code or in markdown cells).  Then submit your assignment as usual."
      ]
    },
    {
      "cell_type": "markdown",
      "metadata": {
        "id": "L41vAghIeMQp"
      },
      "source": [
        "### 1. Connect to the data source\n",
        "\n",
        "Follow the examples provided in the [week15 folder of our GitHub repository](https://github.com/paulboal/hds5210-2023/tree/main/week15) to connect your notebook either to Big Query or Snowflake."
      ]
    },
    {
      "cell_type": "code",
      "execution_count": 1,
      "metadata": {
        "id": "tf204LJueMQp",
        "outputId": "eeab5bab-afdb-4821-d5ab-bf8535d41e7a",
        "colab": {
          "base_uri": "https://localhost:8080/"
        }
      },
      "outputs": [
        {
          "output_type": "stream",
          "name": "stdout",
          "text": [
            "Collecting snowflake-connector-python[pandas]\n",
            "  Downloading snowflake_connector_python-3.6.0-cp310-cp310-manylinux_2_17_x86_64.manylinux2014_x86_64.whl (2.5 MB)\n",
            "\u001b[2K     \u001b[90m━━━━━━━━━━━━━━━━━━━━━━━━━━━━━━━━━━━━━━━━\u001b[0m \u001b[32m2.5/2.5 MB\u001b[0m \u001b[31m21.2 MB/s\u001b[0m eta \u001b[36m0:00:00\u001b[0m\n",
            "\u001b[?25hCollecting asn1crypto<2.0.0,>0.24.0 (from snowflake-connector-python[pandas])\n",
            "  Downloading asn1crypto-1.5.1-py2.py3-none-any.whl (105 kB)\n",
            "\u001b[2K     \u001b[90m━━━━━━━━━━━━━━━━━━━━━━━━━━━━━━━━━━━━━━━━\u001b[0m \u001b[32m105.0/105.0 kB\u001b[0m \u001b[31m12.3 MB/s\u001b[0m eta \u001b[36m0:00:00\u001b[0m\n",
            "\u001b[?25hRequirement already satisfied: cffi<2.0.0,>=1.9 in /usr/local/lib/python3.10/dist-packages (from snowflake-connector-python[pandas]) (1.16.0)\n",
            "Requirement already satisfied: cryptography<42.0.0,>=3.1.0 in /usr/local/lib/python3.10/dist-packages (from snowflake-connector-python[pandas]) (41.0.7)\n",
            "Requirement already satisfied: pyOpenSSL<24.0.0,>=16.2.0 in /usr/local/lib/python3.10/dist-packages (from snowflake-connector-python[pandas]) (23.3.0)\n",
            "Requirement already satisfied: pyjwt<3.0.0 in /usr/lib/python3/dist-packages (from snowflake-connector-python[pandas]) (2.3.0)\n",
            "Requirement already satisfied: pytz in /usr/local/lib/python3.10/dist-packages (from snowflake-connector-python[pandas]) (2023.3.post1)\n",
            "Requirement already satisfied: requests<3.0.0 in /usr/local/lib/python3.10/dist-packages (from snowflake-connector-python[pandas]) (2.31.0)\n",
            "Requirement already satisfied: packaging in /usr/local/lib/python3.10/dist-packages (from snowflake-connector-python[pandas]) (23.2)\n",
            "Requirement already satisfied: charset-normalizer<4,>=2 in /usr/local/lib/python3.10/dist-packages (from snowflake-connector-python[pandas]) (3.3.2)\n",
            "Requirement already satisfied: idna<4,>=2.5 in /usr/local/lib/python3.10/dist-packages (from snowflake-connector-python[pandas]) (3.6)\n",
            "Requirement already satisfied: certifi>=2017.4.17 in /usr/local/lib/python3.10/dist-packages (from snowflake-connector-python[pandas]) (2023.11.17)\n",
            "Requirement already satisfied: typing-extensions<5,>=4.3 in /usr/local/lib/python3.10/dist-packages (from snowflake-connector-python[pandas]) (4.5.0)\n",
            "Requirement already satisfied: filelock<4,>=3.5 in /usr/local/lib/python3.10/dist-packages (from snowflake-connector-python[pandas]) (3.13.1)\n",
            "Requirement already satisfied: sortedcontainers>=2.4.0 in /usr/local/lib/python3.10/dist-packages (from snowflake-connector-python[pandas]) (2.4.0)\n",
            "Collecting platformdirs<4.0.0,>=2.6.0 (from snowflake-connector-python[pandas])\n",
            "  Downloading platformdirs-3.11.0-py3-none-any.whl (17 kB)\n",
            "Collecting tomlkit (from snowflake-connector-python[pandas])\n",
            "  Downloading tomlkit-0.12.3-py3-none-any.whl (37 kB)\n",
            "Requirement already satisfied: pandas<2.2.0,>=1.0.0 in /usr/local/lib/python3.10/dist-packages (from snowflake-connector-python[pandas]) (1.5.3)\n",
            "Requirement already satisfied: pyarrow in /usr/local/lib/python3.10/dist-packages (from snowflake-connector-python[pandas]) (10.0.1)\n",
            "Requirement already satisfied: pycparser in /usr/local/lib/python3.10/dist-packages (from cffi<2.0.0,>=1.9->snowflake-connector-python[pandas]) (2.21)\n",
            "Requirement already satisfied: python-dateutil>=2.8.1 in /usr/local/lib/python3.10/dist-packages (from pandas<2.2.0,>=1.0.0->snowflake-connector-python[pandas]) (2.8.2)\n",
            "Requirement already satisfied: numpy>=1.21.0 in /usr/local/lib/python3.10/dist-packages (from pandas<2.2.0,>=1.0.0->snowflake-connector-python[pandas]) (1.23.5)\n",
            "Requirement already satisfied: urllib3<3,>=1.21.1 in /usr/local/lib/python3.10/dist-packages (from requests<3.0.0->snowflake-connector-python[pandas]) (2.0.7)\n",
            "Requirement already satisfied: six>=1.5 in /usr/local/lib/python3.10/dist-packages (from python-dateutil>=2.8.1->pandas<2.2.0,>=1.0.0->snowflake-connector-python[pandas]) (1.16.0)\n",
            "Installing collected packages: asn1crypto, tomlkit, platformdirs, snowflake-connector-python\n",
            "  Attempting uninstall: platformdirs\n",
            "    Found existing installation: platformdirs 4.1.0\n",
            "    Uninstalling platformdirs-4.1.0:\n",
            "      Successfully uninstalled platformdirs-4.1.0\n",
            "Successfully installed asn1crypto-1.5.1 platformdirs-3.11.0 snowflake-connector-python-3.6.0 tomlkit-0.12.3\n"
          ]
        }
      ],
      "source": [
        "!pip install \"snowflake-connector-python[pandas]\"\n",
        "\n",
        "import snowflake.connector\n",
        "import pandas as pd\n",
        "\n"
      ]
    },
    {
      "cell_type": "code",
      "source": [
        "# Check if con is defined and close the connection if it is\n",
        "if 'con' in locals():con.close()"
      ],
      "metadata": {
        "id": "yjOQkEIgGxUL"
      },
      "execution_count": 2,
      "outputs": []
    },
    {
      "cell_type": "code",
      "source": [
        "# Create a new connection with snowflake\n",
        "con = snowflake.connector.connect(\n",
        "    user='mansipokiya14',\n",
        "    password='Mansi1408!',\n",
        "    account='EXYDDML-VY36265',\n",
        "    database='COVID19_EPIDEMIOLOGICAL_DATA',\n",
        "    schema='PUBLIC',\n",
        "    warehouse='COMPUTE_WH',\n",
        "    session_parameters={\n",
        "        'QUERY_TAG': 'Demo User Interaction',}\n",
        ")"
      ],
      "metadata": {
        "id": "lA88lnhAG8zV"
      },
      "execution_count": 3,
      "outputs": []
    },
    {
      "cell_type": "code",
      "source": [
        "# Already have a connection of 'con'\n",
        "cursor = con.cursor()"
      ],
      "metadata": {
        "id": "1UgPbSLtHy_I"
      },
      "execution_count": 4,
      "outputs": []
    },
    {
      "cell_type": "code",
      "source": [
        "# Specify the table name\n",
        "table_name = 'DEMOGRAPHICS'"
      ],
      "metadata": {
        "id": "iiLpV7RLHz0D"
      },
      "execution_count": 5,
      "outputs": []
    },
    {
      "cell_type": "code",
      "source": [
        "# Construct the SELECT query\n",
        "query = f'SELECT * FROM {table_name}'"
      ],
      "metadata": {
        "id": "kLJCJ2ZBH5ti"
      },
      "execution_count": 6,
      "outputs": []
    },
    {
      "cell_type": "code",
      "source": [
        "# Execute the query\n",
        "cursor.execute(query)"
      ],
      "metadata": {
        "id": "5ZD1WjmaH9Mv",
        "outputId": "6fa06ff7-393c-4acd-cdec-af4c28727bd1",
        "colab": {
          "base_uri": "https://localhost:8080/"
        }
      },
      "execution_count": 7,
      "outputs": [
        {
          "output_type": "execute_result",
          "data": {
            "text/plain": [
              "<snowflake.connector.cursor.SnowflakeCursor at 0x793c3fd69de0>"
            ]
          },
          "metadata": {},
          "execution_count": 7
        }
      ]
    },
    {
      "cell_type": "code",
      "source": [
        "# Fetching the results into a Pandas DataFrame\n",
        "columns = [col[0] for col in cursor.description]\n",
        "data = cursor.fetchall()\n",
        "df = pd.DataFrame(data, columns=columns)"
      ],
      "metadata": {
        "id": "eRkgkEI2IBpN"
      },
      "execution_count": 8,
      "outputs": []
    },
    {
      "cell_type": "code",
      "source": [
        "# Print the column names\n",
        "print(\"Column Names:\")\n",
        "print(df.columns)"
      ],
      "metadata": {
        "id": "0cBbat7uIFoB",
        "outputId": "b9d66cf7-1c98-4bcf-961d-7b255ab1f545",
        "colab": {
          "base_uri": "https://localhost:8080/"
        }
      },
      "execution_count": 9,
      "outputs": [
        {
          "output_type": "stream",
          "name": "stdout",
          "text": [
            "Column Names:\n",
            "Index(['ISO3166_1', 'ISO3166_2', 'FIPS', 'LATITUDE', 'LONGITUDE', 'STATE',\n",
            "       'COUNTY', 'TOTAL_POPULATION', 'TOTAL_MALE_POPULATION',\n",
            "       'TOTAL_FEMALE_POPULATION'],\n",
            "      dtype='object')\n"
          ]
        }
      ]
    },
    {
      "cell_type": "code",
      "source": [
        "# Print the DataFrame\n",
        "print(\"\\nDataFrame:\")\n",
        "print(df)"
      ],
      "metadata": {
        "id": "dWef7HEvII8S",
        "outputId": "f62192ee-aaf5-436b-a167-6fcdacad818d",
        "colab": {
          "base_uri": "https://localhost:8080/"
        }
      },
      "execution_count": 10,
      "outputs": [
        {
          "output_type": "stream",
          "name": "stdout",
          "text": [
            "\n",
            "DataFrame:\n",
            "     ISO3166_1 ISO3166_2   FIPS   LATITUDE   LONGITUDE STATE  \\\n",
            "0           US        CA  06081  37.467348 -122.124828    CA   \n",
            "1           US        CA  06083  34.388274 -119.490511    CA   \n",
            "2           US        CA  06085  37.040598 -121.488980    CA   \n",
            "3           US        CA  06087  36.933939 -121.675387    CA   \n",
            "4           US        CA  06089  40.796145 -121.415607    CA   \n",
            "...        ...       ...    ...        ...         ...   ...   \n",
            "3135        US        NY  36039  42.436161  -73.795047    NY   \n",
            "3136        US        NY  36041  43.733069  -74.250052    NY   \n",
            "3137        US        NY  36043  43.131493  -74.774864    NY   \n",
            "3138        US        NY  36045  44.040206  -75.546141    NY   \n",
            "3139        US        NY  36047  40.666401  -73.858559    NY   \n",
            "\n",
            "                    COUNTY  TOTAL_POPULATION  TOTAL_MALE_POPULATION  \\\n",
            "0         San Mateo County            754748                 371545   \n",
            "1     Santa Barbara County            439395                 220159   \n",
            "2       Santa Clara County           1885056                 949223   \n",
            "3        Santa Cruz County            270931                 134367   \n",
            "4            Shasta County            179228                  87903   \n",
            "...                    ...               ...                    ...   \n",
            "3135         Greene County             48069                  24956   \n",
            "3136       Hamilton County              4697                   2382   \n",
            "3137       Herkimer County             63558                  31375   \n",
            "3138      Jefferson County            117966                  61754   \n",
            "3139          Kings County           2606852                1234959   \n",
            "\n",
            "      TOTAL_FEMALE_POPULATION  \n",
            "0                      383203  \n",
            "1                      219236  \n",
            "2                      935833  \n",
            "3                      136564  \n",
            "4                       91325  \n",
            "...                       ...  \n",
            "3135                    23113  \n",
            "3136                     2315  \n",
            "3137                    32183  \n",
            "3138                    56212  \n",
            "3139                  1371893  \n",
            "\n",
            "[3140 rows x 10 columns]\n"
          ]
        }
      ]
    },
    {
      "cell_type": "code",
      "source": [
        "# Close the cursor\n",
        "cursor.close()"
      ],
      "metadata": {
        "id": "NsJTWsCRINS2",
        "outputId": "3481dd55-a6a6-4e9b-94b3-c398771236f6",
        "colab": {
          "base_uri": "https://localhost:8080/"
        }
      },
      "execution_count": 11,
      "outputs": [
        {
          "output_type": "execute_result",
          "data": {
            "text/plain": [
              "True"
            ]
          },
          "metadata": {},
          "execution_count": 11
        }
      ]
    },
    {
      "cell_type": "markdown",
      "metadata": {
        "id": "_9d8WOjZeMQq"
      },
      "source": [
        "### 2. Query some data\n",
        "\n",
        "Assuming the source database has some data in it or that you can load some data into it from any source, query it.  Then, read that data into a Pandas dataframe."
      ]
    },
    {
      "cell_type": "code",
      "execution_count": 12,
      "metadata": {
        "id": "1ETNEHnueMQq"
      },
      "outputs": [],
      "source": [
        "cursor = con.cursor()"
      ]
    },
    {
      "cell_type": "code",
      "source": [
        "# Specify the table name\n",
        "table_name = 'DEMOGRAPHICS'"
      ],
      "metadata": {
        "id": "oY_B22zbIY2Q"
      },
      "execution_count": 13,
      "outputs": []
    },
    {
      "cell_type": "code",
      "source": [
        "#Make a selection of relevant columns\n",
        "selected_columns = [\n",
        "    'STATE', 'COUNTY', 'TOTAL_POPULATION', 'TOTAL_MALE_POPULATION', 'TOTAL_FEMALE_POPULATION'\n",
        "]"
      ],
      "metadata": {
        "id": "b8slltAwIYy2"
      },
      "execution_count": 14,
      "outputs": []
    },
    {
      "cell_type": "code",
      "source": [
        "# Construct the SELECT query\n",
        "columns_query = ', '.join(selected_columns)\n",
        "query = f'SELECT {columns_query} FROM {table_name}'"
      ],
      "metadata": {
        "id": "hvLVJ5HcIYvy"
      },
      "execution_count": 15,
      "outputs": []
    },
    {
      "cell_type": "code",
      "source": [
        "# Execute the query\n",
        "cursor.execute(query)"
      ],
      "metadata": {
        "id": "g-eoim6qIYtK",
        "outputId": "aad3aade-33b8-4b2e-9750-430ad8cd3c6d",
        "colab": {
          "base_uri": "https://localhost:8080/"
        }
      },
      "execution_count": 16,
      "outputs": [
        {
          "output_type": "execute_result",
          "data": {
            "text/plain": [
              "<snowflake.connector.cursor.SnowflakeCursor at 0x793c3fd68a90>"
            ]
          },
          "metadata": {},
          "execution_count": 16
        }
      ]
    },
    {
      "cell_type": "code",
      "source": [
        "# Fetching the results into a Pandas DataFrame\n",
        "columns = [col[0] for col in cursor.description]\n",
        "data = cursor.fetchall()\n",
        "df = pd.DataFrame(data, columns=columns)"
      ],
      "metadata": {
        "id": "oiSeV3-GIYmJ"
      },
      "execution_count": 17,
      "outputs": []
    },
    {
      "cell_type": "code",
      "source": [
        "# Print the DataFrame\n",
        "print(df)"
      ],
      "metadata": {
        "id": "lHoVBOqPIYYQ",
        "outputId": "96867c15-197d-43f6-d05a-64d1a0d4f5a0",
        "colab": {
          "base_uri": "https://localhost:8080/"
        }
      },
      "execution_count": 18,
      "outputs": [
        {
          "output_type": "stream",
          "name": "stdout",
          "text": [
            "     STATE                      COUNTY  TOTAL_POPULATION  \\\n",
            "0       AK      Aleutians East Borough              3299   \n",
            "1       AK  Aleutians West Census Area              5714   \n",
            "2       AK      Anchorage Municipality            299321   \n",
            "3       AK          Bethel Census Area             17885   \n",
            "4       AK         Bristol Bay Borough               942   \n",
            "...    ...                         ...               ...   \n",
            "3135    PA               Carbon County             64330   \n",
            "3136    PA               Centre County            159178   \n",
            "3137    PA              Chester County            512028   \n",
            "3138    PA              Clarion County             38939   \n",
            "3139    PA           Clearfield County             81170   \n",
            "\n",
            "      TOTAL_MALE_POPULATION  TOTAL_FEMALE_POPULATION  \n",
            "0                      2145                     1154  \n",
            "1                      3578                     2136  \n",
            "2                    152681                   146640  \n",
            "3                      9358                     8527  \n",
            "4                       536                      406  \n",
            "...                     ...                      ...  \n",
            "3135                  31944                    32386  \n",
            "3136                  83558                    75620  \n",
            "3137                 252007                   260021  \n",
            "3138                  18983                    19956  \n",
            "3139                  42256                    38914  \n",
            "\n",
            "[3140 rows x 5 columns]\n"
          ]
        }
      ]
    },
    {
      "cell_type": "code",
      "source": [
        "# Close the cursor\n",
        "cursor.close()"
      ],
      "metadata": {
        "id": "6rDiw8Y-Irmw",
        "outputId": "26a345ea-e437-4d96-ff56-ab72df9a9b85",
        "colab": {
          "base_uri": "https://localhost:8080/"
        }
      },
      "execution_count": 19,
      "outputs": [
        {
          "output_type": "execute_result",
          "data": {
            "text/plain": [
              "True"
            ]
          },
          "metadata": {},
          "execution_count": 19
        }
      ]
    },
    {
      "cell_type": "markdown",
      "metadata": {
        "id": "5dJBa3R2eMQq"
      },
      "source": [
        "### 3. Aggregate your data frame\n",
        "\n",
        "Do some kind of aggregation on your data frame.  Something that makes sense and has some groups to it.  Don't just sum up one column for the entire data frame.  Be more creative than that."
      ]
    },
    {
      "cell_type": "code",
      "execution_count": 20,
      "metadata": {
        "id": "rAD4NLjbeMQq"
      },
      "outputs": [],
      "source": [
        "agg_df = df.groupby('STATE').agg({\n",
        "    'TOTAL_POPULATION': 'sum',\n",
        "    'TOTAL_MALE_POPULATION': 'sum',\n",
        "    'TOTAL_FEMALE_POPULATION': 'sum'})"
      ]
    },
    {
      "cell_type": "code",
      "source": [
        "# Print the aggregated DataFrame\n",
        "print(agg_df)"
      ],
      "metadata": {
        "id": "AGFQwCCKI1j-",
        "outputId": "12dc8177-fdd8-4344-e1e2-d60376b646f3",
        "colab": {
          "base_uri": "https://localhost:8080/"
        }
      },
      "execution_count": 21,
      "outputs": [
        {
          "output_type": "stream",
          "name": "stdout",
          "text": [
            "       TOTAL_POPULATION  TOTAL_MALE_POPULATION  TOTAL_FEMALE_POPULATION\n",
            "STATE                                                                  \n",
            "AK               728862                 381037                   347825\n",
            "AL              4841164                2346193                  2494971\n",
            "AR              2968472                1456694                  1511778\n",
            "AZ              6728577                3344106                  3384471\n",
            "CA             38654206               19200970                 19453236\n",
            "CO              5359295                2689636                  2669659\n",
            "CT              3588570                1750270                  1838300\n",
            "DC               659009                 312629                   346380\n",
            "DE               934695                 452416                   482279\n",
            "FL             19934451                9741262                 10193189\n",
            "GA             10099320                4922471                  5176849\n",
            "HI              1413673                 709870                   703803\n",
            "IA              3106589                1542988                  1563601\n",
            "ID              1635483                 819845                   815638\n",
            "IL             12851684                6310460                  6541224\n",
            "IN              6589578                3245322                  3344256\n",
            "KS              2898292                1441912                  1456380\n",
            "KY              4411989                2172745                  2239244\n",
            "LA              4645670                2271684                  2373986\n",
            "MA              6742143                3269371                  3472772\n",
            "MD              5959902                2886734                  3073168\n",
            "ME              1329923                 651344                   678579\n",
            "MI              9909600                4869885                  5039715\n",
            "MN              5450868                2710157                  2740711\n",
            "MO              6059651                2973317                  3086334\n",
            "MS              2989192                1450269                  1538923\n",
            "MT              1023391                 514191                   509200\n",
            "NC              9940828                4834592                  5106236\n",
            "ND               736162                 376979                   359183\n",
            "NE              1881259                 935935                   945324\n",
            "NH              1327503                 656507                   670996\n",
            "NJ              8915456                4350531                  4564925\n",
            "NM              2082669                1031440                  1051229\n",
            "NV              2839172                1426322                  1412850\n",
            "NY             19697457                9555130                 10142327\n",
            "OH             11586941                5673893                  5913048\n",
            "OK              3875589                1919995                  1955594\n",
            "OR              3982267                1971512                  2010755\n",
            "PA             12783977                6255042                  6528935\n",
            "RI              1054491                 511297                   543194\n",
            "SC              4834605                2348338                  2486267\n",
            "SD               836795                 421244                   415551\n",
            "TN              6548009                3191977                  3356032\n",
            "TX             26956435               13379165                 13577270\n",
            "UT              2948427                1483055                  1465372\n",
            "VA              8310301                4086283                  4224018\n",
            "VT               626249                 308711                   317538\n",
            "WA              7073146                3529431                  3543715\n",
            "WI              5754798                2859055                  2895743\n",
            "WV              1846092                 912270                   933822\n",
            "WY               583029                 297691                   285338\n"
          ]
        }
      ]
    },
    {
      "cell_type": "markdown",
      "metadata": {
        "id": "CgXpVEhaeMQr"
      },
      "source": [
        "### 4. Write to Excel\n",
        "\n",
        "Use Pandas functions to write your summarized data out to a local Excel file."
      ]
    },
    {
      "cell_type": "code",
      "execution_count": 22,
      "metadata": {
        "id": "AXv8uJZgeMQr"
      },
      "outputs": [],
      "source": [
        "# Specify the Excel file path\n",
        "excel_file_path = 'aggregated_data.xlsx'"
      ]
    },
    {
      "cell_type": "code",
      "execution_count": 23,
      "metadata": {
        "id": "fTXSRzvaeMQr"
      },
      "outputs": [],
      "source": [
        "# Write the DataFrame to Excel\n",
        "agg_df.to_excel(excel_file_path, index=True)"
      ]
    },
    {
      "cell_type": "code",
      "source": [
        "# Confirm the file creation\n",
        "print(f'Data has been written to {excel_file_path}')"
      ],
      "metadata": {
        "id": "zp_3O90AJObX",
        "outputId": "e73a5645-2ebf-4028-c156-844e2cfedcb8",
        "colab": {
          "base_uri": "https://localhost:8080/"
        }
      },
      "execution_count": 24,
      "outputs": [
        {
          "output_type": "stream",
          "name": "stdout",
          "text": [
            "Data has been written to aggregated_data.xlsx\n"
          ]
        }
      ]
    },
    {
      "cell_type": "markdown",
      "metadata": {
        "id": "Hgf7hj8MeMQr"
      },
      "source": [
        "---\n",
        "\n",
        "## Submitting Your Work\n",
        "\n",
        "Submit your work as usual"
      ]
    }
  ],
  "metadata": {
    "kernelspec": {
      "display_name": "Python 3",
      "language": "python",
      "name": "python3"
    },
    "language_info": {
      "codemirror_mode": {
        "name": "ipython",
        "version": 3
      },
      "file_extension": ".py",
      "mimetype": "text/x-python",
      "name": "python",
      "nbconvert_exporter": "python",
      "pygments_lexer": "ipython3",
      "version": "3.6.7"
    },
    "colab": {
      "provenance": []
    }
  },
  "nbformat": 4,
  "nbformat_minor": 0
}