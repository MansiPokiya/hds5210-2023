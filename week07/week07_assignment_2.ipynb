{
  "cells": [
    {
      "cell_type": "markdown",
      "metadata": {
        "id": "eQPQ4Jx4Mmm-"
      },
      "source": [
        "# Week 7 Assignment\n",
        "\n",
        "We've been working with different types of data structures in Python (dictionary, list, etc), how those are represented in JSON documents, and how to write code to access specific data elements. In this week's assignment, you will need to create your own JSON document to store information about yourself and the grades you've received from week 1 to week 4 and the week 6 quiz.  That is, everything you should have received a grade for.  Then you'll need to show me you know how to navigate the JSON in that file.\n",
        "\n",
        "Different from what we've done in the past, you do not have to write any functions or include any docstrings.  Just create some JSON and write some code.\n",
        "\n",
        "---"
      ]
    },
    {
      "cell_type": "markdown",
      "metadata": {
        "id": "IsInZ-qwMmnC"
      },
      "source": [
        "## 7.1 Create a JSON string\n",
        "\n",
        "Create a JSON string that contains your name, email, year you were born, all of the grades you've received back so far, and a comment about what you thought was most challenging on each of those assignments.  This can be any structure you choose, but make sure it uses a dictionary and a list, and has at least two levels of hierarchy.  That is, it can't just be one big long list."
      ]
    },
    {
      "cell_type": "markdown",
      "metadata": {
        "id": "8OitZ46FMmnC"
      },
      "source": [
        "First, explain how your data structure is going to look..."
      ]
    },
    {
      "cell_type": "markdown",
      "metadata": {
        "id": "UtH1atatMmnD"
      },
      "source": [
        "* Put your explanation here in text..."
      ]
    },
    {
      "cell_type": "markdown",
      "metadata": {
        "id": "XHGKB1zRMmnD"
      },
      "source": [
        "Then put the actual JSON you've created inside the multiline string below..."
      ]
    },
    {
      "cell_type": "code",
      "execution_count": 43,
      "metadata": {
        "id": "jWqwP9xYMmnD"
      },
      "outputs": [],
      "source": [
        "import json\n",
        "\n",
        "hds5210 = \"\"\"\n",
        "{\n",
        "    \"me\": {\n",
        "        \"name\": \"mansi pokiya\",\n",
        "        \"email\": \"mansipokiya14@gmail.com\",\n",
        "        \"year_of_birth\": 1999\n",
        "    },\n",
        "    \"grades\": [\n",
        "        {\n",
        "            \"assignment\": \"week 01\",\n",
        "            \"grade\": \"10/10\",\n",
        "            \"comment\": \"Week 1 was quite easy, covering basic concepts.\"\n",
        "        },\n",
        "        {\n",
        "            \"assignment\": \"week 02\",\n",
        "            \"grade\": \"10/10\",\n",
        "            \"comment\": \"There were several difficult exercises in week two, but I did okay.\"\n",
        "        },\n",
        "        {\n",
        "            \"assignment\": \"week 03\",\n",
        "            \"grade\": \"10/10\",\n",
        "            \"comment\": \"Week 3 was a bit harder due to more complex topics.\"\n",
        "        },\n",
        "        {\n",
        "            \"assignment\": \"week 04\",\n",
        "            \"grade\": \"09/10\",\n",
        "            \"comment\": \"The join using a question assignment from Week 4 was difficult.\"\n",
        "        }\n",
        "    ]\n",
        "}\n",
        "\"\"\""
      ]
    },
    {
      "cell_type": "markdown",
      "metadata": {
        "id": "eRC2D3oeMmnE"
      },
      "source": [
        "## 7.2 Do something with your JSON\n",
        "\n",
        "Now use Python code to do something with the Json above.  Turn it into English text, but make sure that you use at least one loop to access some dict or list content of your JSON.  Below, I've provided some basic code to read in the string above as JSON and return a Python object.  Your job is to work with that data structure and print out the important information like your name, email, and how you did on each assignment."
      ]
    },
    {
      "cell_type": "code",
      "execution_count": 44,
      "metadata": {
        "id": "gwIvdzu4MmnF",
        "outputId": "0a774b43-b92b-4bf9-f122-867f7dcabc3c",
        "colab": {
          "base_uri": "https://localhost:8080/"
        }
      },
      "outputs": [
        {
          "output_type": "stream",
          "name": "stdout",
          "text": [
            "Hello, my name is mansi pokiya. I was born in 1999. My email ID is mansipokiya14@gmail.com.\n",
            "I have been graded for 4 assignments in hds5210 subject, which is a total of 39.0 grades.\n"
          ]
        }
      ],
      "source": [
        "import json\n",
        "\n",
        "info = json.loads(hds5210)\n",
        "me_info = info[\"me\"]\n",
        "year_of_birth = me_info[\"year_of_birth\"]\n",
        "email = me_info[\"email\"]\n",
        "grades = info[\"grades\"]\n",
        "total_assignments = len(grades)\n",
        "total_grades = sum(float(grade[\"grade\"].split(\"/\")[0]) for grade in grades)\n",
        "\n",
        "print(f\"Hello, my name is {me_info['name']}. I was born in {year_of_birth}. My email ID is {email}.\")\n",
        "print(f\"I have been graded for {total_assignments} assignments in hds5210 subject, which is a total of {total_grades} grades.\")\n",
        "\n",
        "\n"
      ]
    },
    {
      "cell_type": "code",
      "source": [],
      "metadata": {
        "id": "CtrrYMZCXT5P"
      },
      "execution_count": null,
      "outputs": []
    },
    {
      "cell_type": "markdown",
      "metadata": {
        "id": "xXbsfGd8MmnF"
      },
      "source": [
        "## 7.3 Reflect\n",
        "\n",
        "Write a paragraph on any reflections you have. Was this hard? Easy?  What parts were most challenging or easiest? What did you like or dislike about the assignment?  Share whatever important thoughts you have abou this assignment."
      ]
    },
    {
      "cell_type": "markdown",
      "metadata": {
        "id": "shweYc8qMmnG"
      },
      "source": [
        "It was great to work with JSON. It was pretty simple for me to build a JSON because I knew how to do it in the class. But, in loop code, it was challenging for total grades, but I learned from the source material and gathered the right code to use."
      ]
    },
    {
      "cell_type": "markdown",
      "metadata": {
        "id": "r1JsdfY1MmnG"
      },
      "source": [
        "---\n",
        "\n",
        "# Example\n",
        "\n",
        "Below is an example of something similar, but this uses information my and my friend's kids instead of grades."
      ]
    },
    {
      "cell_type": "code",
      "execution_count": null,
      "metadata": {
        "id": "eca_LMnPMmnG",
        "outputId": "5bce9904-c5b0-483c-fc2c-8e6aad26e4e8"
      },
      "outputs": [
        {
          "name": "stdout",
          "output_type": "stream",
          "text": [
            "Hi, my name is Paul. I've got 3 kids. Their names are Ellie, Ada, Teddy.\n",
            "My friend, Anny has 1 kids. That's fewer than me. Their names are 1\n"
          ]
        }
      ],
      "source": [
        "hds5210 = \"\"\"\n",
        "{\n",
        "    \"me\": {\n",
        "        \"name\": \"Paul\",\n",
        "        \"kids\": [\"Ellie\", \"Ada\", \"Teddy\"]\n",
        "    },\n",
        "    \"friend\": {\n",
        "        \"name\": \"Anny\",\n",
        "        \"kids\": [\"Abby\"]\n",
        "    }\n",
        "}\n",
        "\"\"\"\n",
        "\n",
        "import json\n",
        "\n",
        "info = json.loads(hds5210)\n",
        "\n",
        "me = info[\"me\"][\"name\"]\n",
        "my_kids_count = len(info[\"me\"][\"kids\"])\n",
        "kids_list = \", \".join(info[\"me\"][\"kids\"])\n",
        "friend = info[\"friend\"][\"name\"]\n",
        "friends_kid_count = len(info[\"friend\"][\"kids\"])\n",
        "friend_kids = \", \".join(info[\"friend\"][\"kids\"])\n",
        "compare = \"more\" if friends_kid_count > my_kids_count else \"fewer\"\n",
        "\n",
        "print(f\"Hi, my name is {me}. I've got {my_kids_count} kids. Their names are {kids_list}.\")\n",
        "print(f\"My friend, {friend} has {friends_kid_count} kids. That's {compare} than me. Their names are {friends_kid_count}\")"
      ]
    }
  ],
  "metadata": {
    "kernelspec": {
      "display_name": "Python 3",
      "language": "python",
      "name": "python3"
    },
    "language_info": {
      "codemirror_mode": {
        "name": "ipython",
        "version": 3
      },
      "file_extension": ".py",
      "mimetype": "text/x-python",
      "name": "python",
      "nbconvert_exporter": "python",
      "pygments_lexer": "ipython3",
      "version": "3.9.16"
    },
    "colab": {
      "provenance": []
    }
  },
  "nbformat": 4,
  "nbformat_minor": 0
}