{
  "cells": [
    {
      "cell_type": "markdown",
      "metadata": {
        "id": "nkCYUlPxJCCC"
      },
      "source": [
        "# Week 11 Assignment\n",
        "\n",
        "\n",
        "Please do the programming exercise and verify that your code works using the tests, then think about your final project and fill out the questions in the second part.\n",
        "\n",
        "---\n",
        "---"
      ]
    },
    {
      "cell_type": "markdown",
      "metadata": {
        "id": "mgL2dHW-JCCH"
      },
      "source": [
        "### 47.1: Filtering and summarizing data\n",
        "\n",
        "For this work, you'll find a data file in `https://hds5210-data.s3.amazonaws.com/complications_all.csv`.\n",
        "\n",
        "Read in the data file and create a variable called `mo_hospitals` that contains a data frame from the `complications_all.csv` file, filtered down to only contain those hospitals from the state of Missouri (MO).\n",
        "\n",
        "Then aggregate that data by hospital into a variable named `mo_summary`.  There are some key fields that we want to summarize:\n",
        "* We want to know the earliest date that each hospital was participating in any program\n",
        "* We want to know the latest date that each hospital stopped participating in any program\n",
        "* We want to know the total number of patients in the denominators of these programs\n",
        "\n",
        "Some things to note:\n",
        "* You will need to convert the `Start Date` and `End Date` to actual datetime fields\n",
        "* You will need to clean up and convert the `Denominator` field to just be numeric - the rule that you should use it to simply remove any records where the `Denominator` is `'Not Available'`\n",
        "\n",
        "\n",
        "The final result of this step should be a new data frame called `mo_summary` that contains one row for each hospital and contains the min start date, max end date, and total denominator.  Use the names `start_date`, `end_date`, and `number` for those columns in `mo_summary`.\n",
        "\n",
        "\n",
        "You do not need to create your code in the form of a function, just make sure your variable names match what I've described above so the tests work."
      ]
    },
    {
      "cell_type": "code",
      "execution_count": 1,
      "metadata": {
        "id": "Am2MaxL_JCCI"
      },
      "outputs": [],
      "source": [
        "import pandas as pd\n",
        "# This is just to show you the name to use for the variable you need to create for this step to pass.\n",
        "all_hospitals = pd.read_csv('https://hds5210-data.s3.amazonaws.com/complications_all.csv')\n",
        "mo_hospitals = all_hospitals[all_hospitals['State']=='MO']\n"
      ]
    },
    {
      "cell_type": "code",
      "execution_count": 2,
      "metadata": {
        "id": "vCwG602cJCCK"
      },
      "outputs": [],
      "source": [
        "assert(mo_hospitals['State'].unique() == ['MO'])\n",
        "assert(mo_hospitals.shape == (2133,18))"
      ]
    },
    {
      "cell_type": "code",
      "source": [
        "mo_hospitals['number'] = pd.to_numeric(mo_hospitals['Denominator'], errors='coerce', downcast='integer')\n",
        "mo_hospitals['start_date'] = pd.to_datetime(mo_hospitals['Start Date'], format='%m/%d/%Y', errors='coerce')\n",
        "mo_hospitals['end_date'] = pd.to_datetime(mo_hospitals['End Date'], format='%m/%d/%Y', errors='coerce')\n",
        "mo_summary = mo_hospitals.groupby('Facility Name').agg({'number':'sum', 'start_date':'min', 'end_date':'max'})\n",
        "mo_summary = mo_summary[mo_summary['number'] > 0]"
      ],
      "metadata": {
        "id": "PAehvfBAJTsc",
        "outputId": "c4890a77-2e4f-49ad-a39d-57f32fd52a73",
        "colab": {
          "base_uri": "https://localhost:8080/"
        }
      },
      "execution_count": 3,
      "outputs": [
        {
          "output_type": "stream",
          "name": "stderr",
          "text": [
            "<ipython-input-3-32053f9cd13e>:1: SettingWithCopyWarning: \n",
            "A value is trying to be set on a copy of a slice from a DataFrame.\n",
            "Try using .loc[row_indexer,col_indexer] = value instead\n",
            "\n",
            "See the caveats in the documentation: https://pandas.pydata.org/pandas-docs/stable/user_guide/indexing.html#returning-a-view-versus-a-copy\n",
            "  mo_hospitals['number'] = pd.to_numeric(mo_hospitals['Denominator'], errors='coerce', downcast='integer')\n",
            "<ipython-input-3-32053f9cd13e>:2: SettingWithCopyWarning: \n",
            "A value is trying to be set on a copy of a slice from a DataFrame.\n",
            "Try using .loc[row_indexer,col_indexer] = value instead\n",
            "\n",
            "See the caveats in the documentation: https://pandas.pydata.org/pandas-docs/stable/user_guide/indexing.html#returning-a-view-versus-a-copy\n",
            "  mo_hospitals['start_date'] = pd.to_datetime(mo_hospitals['Start Date'], format='%m/%d/%Y', errors='coerce')\n",
            "<ipython-input-3-32053f9cd13e>:3: SettingWithCopyWarning: \n",
            "A value is trying to be set on a copy of a slice from a DataFrame.\n",
            "Try using .loc[row_indexer,col_indexer] = value instead\n",
            "\n",
            "See the caveats in the documentation: https://pandas.pydata.org/pandas-docs/stable/user_guide/indexing.html#returning-a-view-versus-a-copy\n",
            "  mo_hospitals['end_date'] = pd.to_datetime(mo_hospitals['End Date'], format='%m/%d/%Y', errors='coerce')\n"
          ]
        }
      ]
    },
    {
      "cell_type": "code",
      "execution_count": 4,
      "metadata": {
        "id": "JQzAhaqvJCCL"
      },
      "outputs": [],
      "source": [
        "assert(mo_summary['number'].sum() == 1766908)\n",
        "assert(mo_summary['start_date'].min() == pd.Timestamp(2015,4,1))\n",
        "assert(mo_summary['end_date'].max() == pd.Timestamp(2018,6,30))\n",
        "assert(mo_summary.shape == (108,3))\n",
        "assert(mo_summary.loc['BARNES JEWISH HOSPITAL'].number == 131313)\n",
        "assert(mo_summary.loc['BOONE HOSPITAL CENTER'].number == 63099)"
      ]
    },
    {
      "cell_type": "markdown",
      "metadata": {
        "id": "FNW-JszcJCCM"
      },
      "source": [
        "---\n",
        "\n",
        "### 47.2 Planning your final project\n",
        "\n",
        "You should be thinking about the things we've been learning and how you can apply them to your final project.  Use the rubric to help guid your thinking and then answer the questions below.  This is meant as a guide to help you think through what you will do."
      ]
    },
    {
      "cell_type": "markdown",
      "metadata": {
        "id": "hECxDt1uJCCM"
      },
      "source": [
        "#### A) Data Access\n",
        "\n",
        "Your project should include data from at least three distinct types of sources.  For example: AWS S3, Relational Databases, Internet, Web Services, local files.  List what data sources you're planning to use."
      ]
    },
    {
      "cell_type": "markdown",
      "metadata": {
        "id": "riCCWiaXJCCN"
      },
      "source": [
        "Data source:\n",
        "1)CMS provider data files from: https://data.cms.gov/provider-data/\n",
        "2)The Census Bureau provides a wide range of demographic and socioeconomic data:https://www.census.gov/data.html\n",
        "3)Public Health Data API:Examine a public health data API that offers details on immunization rates, disease prevalence, and other health indicators. The CDC's API, which  available at https://dev.socrata.com/foundry/data.cdc.gov/8pt5-q6wp.html\n",
        "\n"
      ]
    },
    {
      "cell_type": "markdown",
      "metadata": {
        "id": "Cb2_P1V_JCCO"
      },
      "source": [
        "#### B. Data Formats\n",
        "\n",
        "Your project should include data that comes in different file formats.  For example: HL7, EDI, HTML, CSV, Excel, JSON, XML.  List what data formats you're planning to use."
      ]
    },
    {
      "cell_type": "markdown",
      "metadata": {
        "id": "Lc4UvpUaJCCP"
      },
      "source": [
        "Data formats:\n",
        "1)HTML\n",
        "2)CSV\n",
        "3)EXCEL\n"
      ]
    },
    {
      "cell_type": "markdown",
      "metadata": {
        "id": "8AtQt_ScJCCP"
      },
      "source": [
        "#### C. Objective\n",
        "\n",
        "What purpose would your project serve in a real work setting?  Take a couple of paragraphs to write down why this is an interesting product."
      ]
    },
    {
      "cell_type": "markdown",
      "metadata": {
        "id": "kBoDtUNkJCCP"
      },
      "source": [
        "This project is all about making sure patients in Missouri hospitals are happy with their experiences. We want to figure out what factors, like where the hospital is located, its size, how responsive the staff is, and how quiet it is, affect patient satisfaction. We'll also check if the scores hospitals get for patient satisfaction are related to how busy the hospital is. By understanding these things, we can help hospitals focus on what matters most to make sure patients have a great experience and, in turn, help hospitals succeed"
      ]
    },
    {
      "cell_type": "markdown",
      "metadata": {
        "id": "rfuslx_VJCCP"
      },
      "source": [
        "\n",
        "\n",
        "---\n",
        "\n",
        "\n",
        "\n",
        "## Submit your work via GitHub as normal\n"
      ]
    }
  ],
  "metadata": {
    "kernelspec": {
      "display_name": "Python 3",
      "language": "python",
      "name": "python3"
    },
    "language_info": {
      "codemirror_mode": {
        "name": "ipython",
        "version": 3
      },
      "file_extension": ".py",
      "mimetype": "text/x-python",
      "name": "python",
      "nbconvert_exporter": "python",
      "pygments_lexer": "ipython3",
      "version": "3.9.16"
    },
    "colab": {
      "provenance": []
    }
  },
  "nbformat": 4,
  "nbformat_minor": 0
}